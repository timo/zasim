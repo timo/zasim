{
 "metadata": {
  "name": "multi_axis_palette"
 }, 
 "nbformat": 2, 
 "worksheets": [
  {
   "cells": [
    {
     "cell_type": "code", 
     "collapsed": true, 
     "input": [
      "from PySide.QtGui import *", 
      "from PySide.QtCore import *", 
      "", 
      "%gui qt"
     ], 
     "language": "python", 
     "outputs": [], 
     "prompt_number": 1
    }, 
    {
     "cell_type": "markdown", 
     "source": [
      "the input should be something like:", 
      "", 
      "values = {\"f1\": [0, 1, 2, 3], \"f2\": [0, 1, 2], \"f3\": [9, 10, 11]}", 
      "", 
      "and hues for each channel:", 
      "", 
      "hues = {\"f1\": 0, \"f2\": 120, \"f3\": 240}", 
      "", 
      "the result should be a qcolor palette with colors made from those three components mixed.", 
      "", 
      "maybe even a weight distribution would be nice, to make specific values on each \"scale\" have more distance to their neighbouring colors)"
     ]
    }, 
    {
     "cell_type": "code", 
     "collapsed": true, 
     "input": [
      "test_values = dict(f0=[0, 1, 2],", 
      "                   f1=[4, 5, 6],", 
      "                   f2=[1,10,11])", 
      "test_hues = dict(f0=0, f1= 120, f2=240)"
     ], 
     "language": "python", 
     "outputs": [], 
     "prompt_number": 2
    }, 
    {
     "cell_type": "code", 
     "collapsed": true, 
     "input": [
      "def values_along_axis(hue, values):", 
      "    for idx, _ in enumerate(values):", 
      "        yield QColor.fromHsv(hue, 255, 255. * (float(idx) / (len(values) - 1))).convertTo(QColor.Rgb)"
     ], 
     "language": "python", 
     "outputs": [], 
     "prompt_number": 3
    }, 
    {
     "cell_type": "code", 
     "collapsed": true, 
     "input": [
      "def mix_colors(colors):", 
      "    lenf = float(len(colors))", 
      "    red = sum(col.red() for col in colors)     / lenf", 
      "    green = sum(col.green() for col in colors) / lenf", 
      "    blue = sum(col.blue() for col in colors)   / lenf", 
      "    return QColor.fromRgb(red, green, blue)"
     ], 
     "language": "python", 
     "outputs": [], 
     "prompt_number": 4
    }, 
    {
     "cell_type": "code", 
     "collapsed": false, 
     "input": [
      "from itertools import product", 
      "def generate_palette(values, hues):", 
      "    # make sure values and hues are in the same order", 
      "    axisnames = list(values.keys())", 
      "", 
      "    axisvalues = list(list(values_along_axis(hues[axis], values[axis])) for axis in axisnames)", 
      "    values = list(values[axis] for axis in axisnames)", 
      "    ", 
      "    palette = {}", 
      "    ", 
      "    combinations = product(*values)", 
      "    for position in combinations:", 
      "        colors = []", 
      "        for axidx, ordinate in enumerate(position):", 
      "            colors.append(axisvalues[axidx][values[axidx].index(ordinate)])", 
      "        palette[position] = mix_colors(colors)", 
      "    ", 
      "    return palette"
     ], 
     "language": "python", 
     "outputs": [], 
     "prompt_number": 5
    }, 
    {
     "cell_type": "code", 
     "collapsed": false, 
     "input": [
      "pal = generate_palette(test_values, test_hues)"
     ], 
     "language": "python", 
     "outputs": [], 
     "prompt_number": 6
    }
   ]
  }
 ]
}