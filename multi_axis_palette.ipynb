{
 "metadata": {
  "name": "multi_axis_palette"
 }, 
 "nbformat": 2, 
 "worksheets": [
  {
   "cells": [
    {
     "cell_type": "code", 
     "collapsed": true, 
     "input": [
      "from PySide.QtGui import *", 
      "from PySide.QtCore import *", 
      "", 
      "%gui qt"
     ], 
     "language": "python", 
     "outputs": [], 
     "prompt_number": 1
    }, 
    {
     "cell_type": "markdown", 
     "source": [
      "the input should be something like:"
     ]
    }, 
    {
     "cell_type": "code", 
     "collapsed": true, 
     "input": [
      "#                values   | hue", 
      "test_values = [([0, 1, 2],  0),", 
      "               ([4, 5, 6],  120),", 
      "               ([1,10,11],  240)]"
     ], 
     "language": "python", 
     "outputs": [], 
     "prompt_number": 2
    }, 
    {
     "cell_type": "markdown", 
     "source": [
      "the result should be a qcolor palette with colors made from those three components mixed.", 
      "", 
      "maybe even a weight distribution would be nice, to make specific values on each \"scale\" have more distance to their neighbouring colors)"
     ]
    }, 
    {
     "cell_type": "code", 
     "collapsed": true, 
     "input": [
      "def values_along_axis(hue, values):", 
      "    for idx, _ in enumerate(values):", 
      "        yield QColor.fromHsv(hue, 255, 255. * (float(idx) / (len(values) - 1))).convertTo(QColor.Rgb)"
     ], 
     "language": "python", 
     "outputs": [], 
     "prompt_number": 3
    }, 
    {
     "cell_type": "code", 
     "collapsed": true, 
     "input": [
      "def mix_colors(colors):", 
      "    lenf = float(len(colors))", 
      "    red = sum(col.red() for col in colors)     / lenf", 
      "    green = sum(col.green() for col in colors) / lenf", 
      "    blue = sum(col.blue() for col in colors)   / lenf", 
      "    return QColor.fromRgb(red, green, blue)"
     ], 
     "language": "python", 
     "outputs": [], 
     "prompt_number": 4
    }, 
    {
     "cell_type": "code", 
     "collapsed": false, 
     "input": [
      "from itertools import product", 
      "def generate_palette(values):", 
      "    # make sure values and hues are in the same order", 
      "    indices = range(len(values))", 
      "", 
      "    axisvalues = list(list(values_along_axis(values[axis][1], values[axis][0])) for axis in indices)", 
      "    values = list(values[axis][0] for axis in indices)", 
      "", 
      "    palette = {}", 
      "    ", 
      "    combinations = product(*values)", 
      "    for position in combinations:", 
      "        colors = []", 
      "        for axidx, ordinate in enumerate(position):", 
      "            colors.append(axisvalues[axidx][values[axidx].index(ordinate)])", 
      "        palette[position] = mix_colors(colors)", 
      "    ", 
      "    return palette"
     ], 
     "language": "python", 
     "outputs": [], 
     "prompt_number": 5
    }, 
    {
     "cell_type": "code", 
     "collapsed": false, 
     "input": [
      "pal = generate_palette(test_values)"
     ], 
     "language": "python", 
     "outputs": [], 
     "prompt_number": 6
    }
   ]
  }
 ]
}