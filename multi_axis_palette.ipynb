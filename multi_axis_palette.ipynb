{
 "metadata": {
  "name": "multi_axis_palette"
 }, 
 "nbformat": 2, 
 "worksheets": [
  {
   "cells": [
    {
     "cell_type": "markdown", 
     "source": [
      "the input should be something like:", 
      "", 
      "values = {\"f1\": [0, 1, 2, 3], \"f2\": [0, 1, 2], \"f3\": [9, 10, 11]}", 
      "", 
      "and hues for each channel:", 
      "", 
      "hues = {\"f1\": 0, \"f2\": 120, \"f3\": 240}", 
      "", 
      "the result should be a qcolor palette with colors made from those three components mixed.", 
      "", 
      "maybe even a weight distribution would be nice, to make specific values on each \"scale\" have more distance to their neighbouring colors)"
     ]
    }, 
    {
     "cell_type": "code", 
     "collapsed": true, 
     "input": [
      "test_values = dict(f1=[0, 1, 2, 3],", 
      "                   f2=[0, 1, 2],", 
      "                   f3=[9,10,11])", 
      "hues = dict(f1=0, f2= 120, f3=240)"
     ], 
     "language": "python", 
     "outputs": [], 
     "prompt_number": 1
    }
   ]
  }
 ]
}