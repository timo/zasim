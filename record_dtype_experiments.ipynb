{
 "metadata": {
  "name": "record_dtype_experiments"
 }, 
 "nbformat": 2, 
 "worksheets": [
  {
   "cells": [
    {
     "cell_type": "code", 
     "collapsed": true, 
     "input": [
      "import numpy as np", 
      "import scipy.weave as weave", 
      "", 
      "from IPython.core.display import publish_png"
     ], 
     "language": "python", 
     "outputs": [], 
     "prompt_number": 13
    }, 
    {
     "cell_type": "markdown", 
     "source": [
      "# using record dtypes for state arrays", 
      "", 
      "The purpose of this branch is two-fold:", 
      "", 
      "1. we want to declare and access cells as being made up of multiple parts", 
      "2. we want those multiple parts to be displayable in a useful manner:", 
      "   1. interpret all values together as a number and use that for some palette", 
      "   2. interpret the parts as different parts and display them as such", 
      "", 
      "Additional support must be in place for exporting/importing/generating configs, but that's a lower priority.", 
      "", 
      "## a cell is more than one piece of information", 
      "", 
      "this bit is given to us for free by numpys record dtypes. here are a few examples"
     ]
    }, 
    {
     "cell_type": "code", 
     "collapsed": false, 
     "input": [
      "print \"this is how you could model a beta-asynchronous single cell.\"", 
      "a = np.zeros((4, 3), dtype=[(\"hidden\", \"int8\"), (\"communicated\", \"int8\")])", 
      "a[0][0][\"hidden\"] = 99", 
      "a[0][0][\"communicated\"] = 100", 
      "print a, a.dtype"
     ], 
     "language": "python", 
     "outputs": [
      {
       "output_type": "stream", 
       "stream": "stdout", 
       "text": [
        "this is how you could model a beta-asynchronous single cell.", 
        "[[(99, 100) (0, 0) (0, 0)]", 
        " [(0, 0) (0, 0) (0, 0)]", 
        " [(0, 0) (0, 0) (0, 0)]", 
        " [(0, 0) (0, 0) (0, 0)]] [('hidden', '|i1'), ('communicated', '|i1')]"
       ]
      }
     ], 
     "prompt_number": 2
    }, 
    {
     "cell_type": "code", 
     "collapsed": false, 
     "input": [
      "print \"a simplified JVN cell might look something like this:\"", 
      "b = np.zeros((4, 3), dtype=[(\"exc\", \"bool\"), (\"dir\", \"int8\"), (\"special\", \"bool\")])", 
      "b[0][1][\"exc\"] = True", 
      "b[0][1][\"dir\"] = 1  # maybe 1 stands for \"east\" or something", 
      "b[0][1][\"special\"] = True # special transmission", 
      "print b, b.dtype"
     ], 
     "language": "python", 
     "outputs": [
      {
       "output_type": "stream", 
       "stream": "stdout", 
       "text": [
        "a simplified JVN cell might look something like this:", 
        "[[(False, 0, False) (True, 1, True) (False, 0, False)]", 
        " [(False, 0, False) (False, 0, False) (False, 0, False)]", 
        " [(False, 0, False) (False, 0, False) (False, 0, False)]", 
        " [(False, 0, False) (False, 0, False) (False, 0, False)]] [('exc', '|b1'), ('dir', '|i1'), ('special', '|b1')]"
       ]
      }
     ], 
     "prompt_number": 3
    }, 
    {
     "cell_type": "code", 
     "collapsed": false, 
     "input": [
      "print \"access via numbers is also supported:\"", 
      "print b[0][1][0], b[0][1][1], b[0][1][2]", 
      "print b[0,1][0],  b[0,1][1],  b[0,1][2]"
     ], 
     "language": "python", 
     "outputs": [
      {
       "output_type": "stream", 
       "stream": "stdout", 
       "text": [
        "access via numbers is also supported:", 
        "True 1 True", 
        "True 1 True"
       ]
      }
     ], 
     "prompt_number": 4
    }, 
    {
     "cell_type": "code", 
     "collapsed": false, 
     "input": [
      "print \"but slicing along the record axis is not possible:\"", 
      "try:", 
      "    print b[0,1,0]", 
      "    raise Exception(\"unexpected success\")", 
      "except IndexError:", 
      "    print \"didn't work.\"", 
      "", 
      "print \"this doesn't work, either\"", 
      "try:", 
      "    print b[0,1,\"exc\"]", 
      "    raise Exception(\"unexpected success\")", 
      "except ValueError:", 
      "    print \"didn't work.\""
     ], 
     "language": "python", 
     "outputs": [
      {
       "output_type": "stream", 
       "stream": "stdout", 
       "text": [
        "but slicing along the record axis is not possible:", 
        "didn't work.", 
        "this doesn't work, either", 
        "didn't work."
       ]
      }
     ], 
     "prompt_number": 5
    }, 
    {
     "cell_type": "code", 
     "collapsed": false, 
     "input": [
      "print \"leaving out the last index gives us tuples\"", 
      "print b[0,0]", 
      "print b[0][0]", 
      "print", 
      "", 
      "print \"these tuples are not regular tuples, because they can be accessed with strings.\"", 
      "print type(b[0,0])", 
      "print b[0,0][\"exc\"]"
     ], 
     "language": "python", 
     "outputs": [
      {
       "output_type": "stream", 
       "stream": "stdout", 
       "text": [
        "leaving out the last index gives us tuples", 
        "(False, 0, False)", 
        "(False, 0, False)", 
        "", 
        "these tuples are not regular tuples, because they can be accessed with strings.", 
        "<type 'numpy.void'>", 
        "False"
       ]
      }
     ], 
     "prompt_number": 6
    }, 
    {
     "cell_type": "markdown", 
     "source": [
      "## weave.inline considerations", 
      "", 
      "it appears, that inline cannot convert arrays with complex dtypes that have names or different types:"
     ]
    }, 
    {
     "cell_type": "code", 
     "collapsed": false, 
     "input": [
      "with_names = np.zeros((3, 2), dtype=[(\"foo\", \"int8\"), (\"bar\", \"int8\")])", 
      "try:", 
      "    weave.inline(\"\"\"with_names(0,1,0) = 99;\"\"\", arg_names=[\"with_names\"], type_converters=weave.converters.blitz)", 
      "except KeyError:", 
      "    print \"didn't work\""
     ], 
     "language": "python", 
     "outputs": [
      {
       "output_type": "stream", 
       "stream": "stdout", 
       "text": [
        "didn't work"
       ]
      }
     ], 
     "prompt_number": 7
    }, 
    {
     "cell_type": "markdown", 
     "source": [
      "however, if the dtype is just \"multiples of one type\", like two 8-bit integers per field, it works"
     ]
    }, 
    {
     "cell_type": "code", 
     "collapsed": false, 
     "input": [
      "without_names = np.zeros((3, 2), dtype=\"2i8\")", 
      "weave.inline(\"\"\"without_names(0,1,0) = 99;\"\"\", arg_names=[\"without_names\"], type_converters=weave.converters.blitz)", 
      "print without_names"
     ], 
     "language": "python", 
     "outputs": [
      {
       "output_type": "stream", 
       "stream": "stdout", 
       "text": [
        "[[[ 0  0]", 
        "  [99  0]]", 
        "", 
        " [[ 0  0]", 
        "  [ 0  0]]", 
        "", 
        " [[ 0  0]", 
        "  [ 0  0]]]"
       ]
      }
     ], 
     "prompt_number": 8
    }, 
    {
     "cell_type": "markdown", 
     "source": [
      "record datatypes that are essentially the same as such a \"multiples of one type\" type can just be reshaped:"
     ]
    }, 
    {
     "cell_type": "code", 
     "collapsed": false, 
     "input": [
      "original = np.zeros((3, 2), dtype=[(\"foo\", \"int8\"), (\"bar\", \"int8\")])", 
      "reshaped = original.view()", 
      "reshaped.dtype = \"int8\"", 
      "reshaped.shape = (3, 2, 2)", 
      "", 
      "# reshaped being a view of original means we can change either and changes show up in both", 
      "original[0,1][\"foo\"] = 100", 
      "reshaped[2,1,1] = 99", 
      "", 
      "print original, original.dtype", 
      "print reshaped, reshaped.dtype"
     ], 
     "language": "python", 
     "outputs": [
      {
       "output_type": "stream", 
       "stream": "stdout", 
       "text": [
        "[[(0, 0) (100, 0)]", 
        " [(0, 0) (0, 0)]", 
        " [(0, 0) (0, 99)]] [('foo', '|i1'), ('bar', '|i1')]", 
        "[[[  0   0]", 
        "  [100   0]]", 
        "", 
        " [[  0   0]", 
        "  [  0   0]]", 
        "", 
        " [[  0   0]", 
        "  [  0  99]]] int8"
       ]
      }
     ], 
     "prompt_number": 9
    }, 
    {
     "cell_type": "markdown", 
     "source": [
      "such views can now be used in weave.inline without trouble"
     ]
    }, 
    {
     "cell_type": "code", 
     "collapsed": false, 
     "input": [
      "weave.inline(\"\"\"reshaped(1,1,0) = 23;\"\"\", arg_names=[\"reshaped\"], type_converters=weave.converters.blitz)", 
      "print original, original.dtype", 
      "assert original[1,1][\"foo\"] == 23"
     ], 
     "language": "python", 
     "outputs": [
      {
       "output_type": "stream", 
       "stream": "stdout", 
       "text": [
        "[[(0, 0) (100, 0)]", 
        " [(0, 0) (23, 0)]", 
        " [(0, 0) (0, 99)]] [('foo', '|i1'), ('bar', '|i1')]"
       ]
      }
     ], 
     "prompt_number": 10
    }, 
    {
     "cell_type": "markdown", 
     "source": [
      "## display considerations", 
      "", 
      "reshaping and views give us a nice way to palettize such multi-part arrays. like this:"
     ]
    }, 
    {
     "cell_type": "code", 
     "collapsed": false, 
     "input": [
      "multipart = np.zeros((3, 3), dtype=[(\"first_bit\", \"bool\"), (\"second_bit\", \"bool\")])", 
      "multipart[\"first_bit\"].view().reshape(9)[:]  = np.array([True,  False, True, False, True, True,  False, True, True])", 
      "multipart[\"second_bit\"].view().reshape(9)[:] = np.array([False, False, True, True,  True, False, False, False, True])", 
      "print multipart", 
      "", 
      "display = multipart.view()", 
      "display.dtype=\"int16\"", 
      "display.shape=(3,3)", 
      "print display"
     ], 
     "language": "python", 
     "outputs": [
      {
       "output_type": "stream", 
       "stream": "stdout", 
       "text": [
        "[[(True, False) (False, False) (True, True)]", 
        " [(False, True) (True, True) (True, False)]", 
        " [(False, False) (True, False) (True, True)]]", 
        "[[  1   0 257]", 
        " [256 257   1]", 
        " [  0   1 257]]"
       ]
      }
     ], 
     "prompt_number": 11
    }, 
    {
     "cell_type": "markdown", 
     "source": [
      "this configuration is limited to the values 0, 1, 256 and 257. It could now theoretically just be viewed with a normal zasim based config painter:"
     ]
    }, 
    {
     "cell_type": "code", 
     "collapsed": false, 
     "input": [
      "from zasim.display.qt import render_state_array, qimage_to_pngstr, make_gray_palette", 
      "", 
      "new_palette,_ = make_gray_palette([0, 1, 256, 257])", 
      "publish_png(qimage_to_pngstr(render_state_array(display.T, new_palette).scaled(90, 90)))"
     ], 
     "language": "python", 
     "outputs": [
      {
       "output_type": "display_data", 
       "png": "[encoded data removed]"
      }
     ], 
     "prompt_number": 19
    }, 
    {
     "cell_type": "code", 
     "collapsed": true, 
     "input": [], 
     "language": "python", 
     "outputs": []
    }
   ]
  }
 ]
}