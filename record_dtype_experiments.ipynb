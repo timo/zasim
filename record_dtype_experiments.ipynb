{
 "metadata": {
  "name": "record_dtype_experiments"
 }, 
 "nbformat": 2, 
 "worksheets": [
  {
   "cells": [
    {
     "cell_type": "code", 
     "collapsed": true, 
     "input": [
      "import numpy as np", 
      "import scipy.weave as weave", 
      "", 
      "from IPython.core.display import publish_png"
     ], 
     "language": "python", 
     "outputs": [], 
     "prompt_number": 1
    }, 
    {
     "cell_type": "markdown", 
     "source": [
      "# using record dtypes for state arrays", 
      "", 
      "The purpose of this branch is two-fold:", 
      "", 
      "1. we want to declare and access cells as being made up of multiple parts", 
      "2. we want those multiple parts to be displayable in a useful manner:", 
      "   1. interpret all values together as a number and use that for some palette", 
      "   2. interpret the parts as different parts and display them as such", 
      "", 
      "Additional support must be in place for exporting/importing/generating configs, but that's a lower priority.", 
      "", 
      "## a cell is more than one piece of information", 
      "", 
      "this bit is given to us for free by numpys record dtypes. here are a few examples"
     ]
    }, 
    {
     "cell_type": "code", 
     "collapsed": false, 
     "input": [
      "print \"this is how you could model a beta-asynchronous single cell.\"", 
      "a = np.zeros((4, 3), dtype=[(\"hidden\", \"int8\"), (\"communicated\", \"int8\")])", 
      "a[0][0][\"hidden\"] = 99", 
      "a[0][0][\"communicated\"] = 100", 
      "print a, a.dtype"
     ], 
     "language": "python", 
     "outputs": [
      {
       "output_type": "stream", 
       "stream": "stdout", 
       "text": [
        "this is how you could model a beta-asynchronous single cell.", 
        "[[(99, 100) (0, 0) (0, 0)]", 
        " [(0, 0) (0, 0) (0, 0)]", 
        " [(0, 0) (0, 0) (0, 0)]", 
        " [(0, 0) (0, 0) (0, 0)]] [('hidden', '|i1'), ('communicated', '|i1')]"
       ]
      }
     ], 
     "prompt_number": 2
    }, 
    {
     "cell_type": "code", 
     "collapsed": false, 
     "input": [
      "print \"a simplified JVN cell might look something like this:\"", 
      "b = np.zeros((4, 3), dtype=[(\"exc\", \"bool\"), (\"dir\", \"int8\"), (\"special\", \"bool\")])", 
      "b[0][1][\"exc\"] = True", 
      "b[0][1][\"dir\"] = 1  # maybe 1 stands for \"east\" or something", 
      "b[0][1][\"special\"] = True # special transmission", 
      "print b, b.dtype"
     ], 
     "language": "python", 
     "outputs": [
      {
       "output_type": "stream", 
       "stream": "stdout", 
       "text": [
        "a simplified JVN cell might look something like this:", 
        "[[(False, 0, False) (True, 1, True) (False, 0, False)]", 
        " [(False, 0, False) (False, 0, False) (False, 0, False)]", 
        " [(False, 0, False) (False, 0, False) (False, 0, False)]", 
        " [(False, 0, False) (False, 0, False) (False, 0, False)]] [('exc', '|b1'), ('dir', '|i1'), ('special', '|b1')]"
       ]
      }
     ], 
     "prompt_number": 3
    }, 
    {
     "cell_type": "code", 
     "collapsed": false, 
     "input": [
      "print \"access via numbers is also supported:\"", 
      "print b[0][1][0], b[0][1][1], b[0][1][2]", 
      "print b[0,1][0],  b[0,1][1],  b[0,1][2]"
     ], 
     "language": "python", 
     "outputs": [
      {
       "output_type": "stream", 
       "stream": "stdout", 
       "text": [
        "access via numbers is also supported:", 
        "True 1 True", 
        "True 1 True"
       ]
      }
     ], 
     "prompt_number": 4
    }, 
    {
     "cell_type": "code", 
     "collapsed": false, 
     "input": [
      "print \"but slicing along the record axis is not possible:\"", 
      "try:", 
      "    print b[0,1,0]", 
      "    raise Exception(\"unexpected success\")", 
      "except IndexError:", 
      "    print \"didn't work.\"", 
      "", 
      "print \"this doesn't work, either\"", 
      "try:", 
      "    print b[0,1,\"exc\"]", 
      "    raise Exception(\"unexpected success\")", 
      "except ValueError:", 
      "    print \"didn't work.\""
     ], 
     "language": "python", 
     "outputs": [
      {
       "output_type": "stream", 
       "stream": "stdout", 
       "text": [
        "but slicing along the record axis is not possible:", 
        "didn't work.", 
        "this doesn't work, either", 
        "didn't work."
       ]
      }
     ], 
     "prompt_number": 5
    }, 
    {
     "cell_type": "code", 
     "collapsed": false, 
     "input": [
      "print \"leaving out the last index gives us tuples\"", 
      "print b[0,0]", 
      "print b[0][0]", 
      "print", 
      "", 
      "print \"these tuples are not regular tuples, because they can be accessed with strings.\"", 
      "print type(b[0,0])", 
      "print b[0,0][\"exc\"]"
     ], 
     "language": "python", 
     "outputs": [
      {
       "output_type": "stream", 
       "stream": "stdout", 
       "text": [
        "leaving out the last index gives us tuples", 
        "(False, 0, False)", 
        "(False, 0, False)", 
        "", 
        "these tuples are not regular tuples, because they can be accessed with strings.", 
        "<type 'numpy.void'>", 
        "False"
       ]
      }
     ], 
     "prompt_number": 6
    }, 
    {
     "cell_type": "markdown", 
     "source": [
      "## weave.inline considerations", 
      "", 
      "it appears, that inline cannot convert arrays with complex dtypes that have names or different types:"
     ]
    }, 
    {
     "cell_type": "code", 
     "collapsed": false, 
     "input": [
      "with_names = np.zeros((3, 2), dtype=[(\"foo\", \"int8\"), (\"bar\", \"int8\")])", 
      "try:", 
      "    weave.inline(\"\"\"with_names(0,1,0) = 99;\"\"\", arg_names=[\"with_names\"], type_converters=weave.converters.blitz)", 
      "except KeyError:", 
      "    print \"didn't work\""
     ], 
     "language": "python", 
     "outputs": [
      {
       "output_type": "stream", 
       "stream": "stdout", 
       "text": [
        "didn't work"
       ]
      }
     ], 
     "prompt_number": 7
    }, 
    {
     "cell_type": "markdown", 
     "source": [
      "however, if the dtype is just \"multiples of one type\", like two 8-bit integers per field, it works"
     ]
    }, 
    {
     "cell_type": "code", 
     "collapsed": false, 
     "input": [
      "without_names = np.zeros((3, 2), dtype=\"2i8\")", 
      "weave.inline(\"\"\"without_names(0,1,0) = 99;\"\"\", arg_names=[\"without_names\"], type_converters=weave.converters.blitz)", 
      "print without_names"
     ], 
     "language": "python", 
     "outputs": [
      {
       "output_type": "stream", 
       "stream": "stdout", 
       "text": [
        "[[[ 0  0]", 
        "  [99  0]]", 
        "", 
        " [[ 0  0]", 
        "  [ 0  0]]", 
        "", 
        " [[ 0  0]", 
        "  [ 0  0]]]"
       ]
      }
     ], 
     "prompt_number": 8
    }, 
    {
     "cell_type": "markdown", 
     "source": [
      "record datatypes that are essentially the same as such a \"multiples of one type\" type can just be reshaped:"
     ]
    }, 
    {
     "cell_type": "code", 
     "collapsed": false, 
     "input": [
      "original = np.zeros((3, 2), dtype=[(\"foo\", \"int8\"), (\"bar\", \"int8\")])", 
      "reshaped = original.view()", 
      "reshaped.dtype = \"int8\"", 
      "reshaped.shape = (3, 2, 2)", 
      "", 
      "# reshaped being a view of original means we can change either and changes show up in both", 
      "original[0,1][\"foo\"] = 100", 
      "reshaped[2,1,1] = 99", 
      "", 
      "print original, original.dtype", 
      "print reshaped, reshaped.dtype"
     ], 
     "language": "python", 
     "outputs": [
      {
       "output_type": "stream", 
       "stream": "stdout", 
       "text": [
        "[[(0, 0) (100, 0)]", 
        " [(0, 0) (0, 0)]", 
        " [(0, 0) (0, 99)]] [('foo', '|i1'), ('bar', '|i1')]", 
        "[[[  0   0]", 
        "  [100   0]]", 
        "", 
        " [[  0   0]", 
        "  [  0   0]]", 
        "", 
        " [[  0   0]", 
        "  [  0  99]]] int8"
       ]
      }
     ], 
     "prompt_number": 9
    }, 
    {
     "cell_type": "markdown", 
     "source": [
      "such views can now be used in weave.inline without trouble"
     ]
    }, 
    {
     "cell_type": "code", 
     "collapsed": false, 
     "input": [
      "weave.inline(\"\"\"reshaped(1,1,0) = 23;\"\"\", arg_names=[\"reshaped\"], type_converters=weave.converters.blitz)", 
      "print original, original.dtype", 
      "assert original[1,1][\"foo\"] == 23"
     ], 
     "language": "python", 
     "outputs": [
      {
       "output_type": "stream", 
       "stream": "stdout", 
       "text": [
        "[[(0, 0) (100, 0)]", 
        " [(0, 0) (23, 0)]", 
        " [(0, 0) (0, 99)]] [('foo', '|i1'), ('bar', '|i1')]"
       ]
      }
     ], 
     "prompt_number": 10
    }, 
    {
     "cell_type": "markdown", 
     "source": [
      "## display considerations", 
      "", 
      "reshaping and views give us a nice way to palettize such multi-part arrays. like this:"
     ]
    }, 
    {
     "cell_type": "code", 
     "collapsed": false, 
     "input": [
      "multipart = np.zeros((3, 3), dtype=[(\"first_bit\", \"bool\"), (\"second_bit\", \"bool\")])", 
      "multipart[\"first_bit\"].view().reshape(9)[:]  = np.array([True,  False, True, False, True, True,  False, True, True])", 
      "multipart[\"second_bit\"].view().reshape(9)[:] = np.array([False, False, True, True,  True, False, False, False, True])", 
      "print multipart", 
      "", 
      "display = multipart.view()", 
      "display.dtype=\"int16\"", 
      "display.shape=(3,3)", 
      "print display"
     ], 
     "language": "python", 
     "outputs": [
      {
       "output_type": "stream", 
       "stream": "stdout", 
       "text": [
        "[[(True, False) (False, False) (True, True)]", 
        " [(False, True) (True, True) (True, False)]", 
        " [(False, False) (True, False) (True, True)]]", 
        "[[  1   0 257]", 
        " [256 257   1]", 
        " [  0   1 257]]"
       ]
      }
     ], 
     "prompt_number": 11
    }, 
    {
     "cell_type": "markdown", 
     "source": [
      "this configuration is limited to the values 0, 1, 256 and 257. It could now theoretically just be viewed with a normal zasim based config painter:"
     ]
    }, 
    {
     "cell_type": "code", 
     "collapsed": false, 
     "input": [
      "from zasim.display.qt import render_state_array, qimage_to_pngstr, make_gray_palette", 
      "", 
      "new_palette,_ = make_gray_palette([0, 1, 256, 257])", 
      "publish_png(qimage_to_pngstr(render_state_array(display.T, new_palette).scaled(90, 90)))"
     ], 
     "language": "python", 
     "outputs": [
      {
       "output_type": "display_data", 
       "png": "[encoded data removed]"
      }
     ], 
     "prompt_number": 12
    }, 
    {
     "cell_type": "markdown", 
     "source": [
      "reshaping and views gets a bit more complicated if the dtypes are not the same for each field,", 
      "but since most dtypes are just padded up to multiples of bytes or something,", 
      "we can just calculate the next bigger integer type and use that."
     ]
    }, 
    {
     "cell_type": "code", 
     "collapsed": false, 
     "input": [
      "example_dtypes = [\"int8, bool\", \"2int8, int16\", \"int8, int16, bool\"]", 
      "for the_string in example_dtypes:", 
      "    print \"{}: {}\".format(the_string, np.dtype(the_string).itemsize)"
     ], 
     "language": "python", 
     "outputs": [
      {
       "output_type": "stream", 
       "stream": "stdout", 
       "text": [
        "int8, bool: 2", 
        "2int8, int16: 4", 
        "int8, int16, bool: 4"
       ]
      }
     ], 
     "prompt_number": 13
    }, 
    {
     "cell_type": "markdown", 
     "source": [
      "## automatic reshaping and palette generation", 
      "", 
      "since the dtypes can just be figured out from the first value we get,", 
      "all we really need to create a palette is a range of allowed values", 
      "for each of the fields and then we can generate a palette for that, much like this:", 
      ""
     ]
    }, 
    {
     "cell_type": "code", 
     "collapsed": false, 
     "input": [
      "example_dtypes_2 = example_dtypes + \\", 
      "    [[(\"up\", \"bool\"), (\"left\", \"bool\")],", 
      "     [(\"one\", \"int8\"), (\"two\", \"bool\")],", 
      "     ]", 
      "for the_string in example_dtypes_2:", 
      "    print the_string", 
      "    dt = np.dtype(the_string)", 
      "    print dt.fields", 
      "    print \"sizes:\", {fn: (x.name, x.itemsize) for fn, (x, offset) in dt.fields.iteritems()}", 
      "    print \"sum of sizes:\", sum(x.itemsize for x, offset in dt.fields.values())", 
      "    print"
     ], 
     "language": "python", 
     "outputs": [
      {
       "output_type": "stream", 
       "stream": "stdout", 
       "text": [
        "int8, bool", 
        "{'f0': (dtype('int8'), 0), 'f1': (dtype('bool'), 1)}", 
        "sizes: {'f0': ('int8', 1), 'f1': ('bool', 1)}", 
        "sum of sizes: 2", 
        "", 
        "2int8, int16", 
        "{'f0': (dtype(('int8',(2,))), 0), 'f1': (dtype('int16'), 2)}", 
        "sizes: {'f0': ('void16', 2), 'f1': ('int16', 2)}", 
        "sum of sizes: 4", 
        "", 
        "int8, int16, bool", 
        "{'f0': (dtype('int8'), 0), 'f1': (dtype('int16'), 1), 'f2': (dtype('bool'), 3)}", 
        "sizes: {'f0': ('int8', 1), 'f1': ('int16', 2), 'f2': ('bool', 1)}", 
        "sum of sizes: 4", 
        "", 
        "[('up', 'bool'), ('left', 'bool')]", 
        "{'up': (dtype('bool'), 0), 'left': (dtype('bool'), 1)}", 
        "sizes: {'up': ('bool', 1), 'left': ('bool', 1)}", 
        "sum of sizes: 2", 
        "", 
        "[('one', 'int8'), ('two', 'bool')]", 
        "{'two': (dtype('bool'), 1), 'one': (dtype('int8'), 0)}", 
        "sizes: {'two': ('bool', 1), 'one': ('int8', 1)}", 
        "sum of sizes: 2", 
        ""
       ]
      }
     ], 
     "prompt_number": 14
    }, 
    {
     "cell_type": "code", 
     "collapsed": false, 
     "input": [
      "from itertools import product", 
      "from binascii import hexlify", 
      "", 
      "def analyze_dtype(array, possible_value_dict):", 
      "    \"\"\"generates keys for a palette from thegiven array.\"\"\"", 
      "", 
      "    fields_to_sizes = {fn: x.itemsize for fn, (x, offset) in array.dtype.fields.iteritems()}", 
      "    bytesize = sum(fields_to_sizes.values())", 
      "", 
      "    available_bytesizes = [1, 2, 4, 8, 16, 32, 64]", 
      "    # the first higher one we can take, we do take.", 
      "    try:", 
      "        new_bytesize = [bs for bs in available_bytesizes if bs > bytesize][0]", 
      "    except IndexError:", 
      "        raise ValueError(\"There is no dtype large enough to encompass one field :(\")", 
      "", 
      "    if new_bytesize != bytesize:", 
      "        print \"bytesizes differ: {} -> {}\".format(bytesize, new_bytesize)", 
      "        # if the bytesizes differ, we have to pad the data up!", 
      "        pad_size = new_bytesize - bytesize", 
      "", 
      "        # turn pad_size into a binary like 1101. ones tell us which sizes we need", 
      "        # for padding", 
      "        pad_binary = bin(pad_size)[2:]", 
      "        take_padders = [size + 1 for size, take in enumerate(pad_binary) if take == \"1\"]", 
      "", 
      "        dtype_vals = []", 
      "        dtype_fieldnames = []", 
      "        dtype_shapes = []", 
      "        for padval in take_padders:", 
      "            dtype_vals.append(\"i\" + str(padval))", 
      "            name = \"padding_\" + str(padval)", 
      "            dtype_fieldnames.append(name)", 
      "            possible_value_dict[name] = [0]", 
      "            dtype_shapes.append(())", 
      "", 
      "        print \"need to pad the fields with\", \",\".join(dtype_vals)", 
      "        new_dtype_fields = [vals for vals in", 
      "                    zip(# names first", 
      "                        dtype_fieldnames + array.dtype.fields.keys(),", 
      "                        # then values", 
      "                        dtype_vals + [dts.str for dts, offset in array.dtype.fields.values()],", 
      "                        # and finally shapes", 
      "                        dtype_shapes + [dts.shape for dts, offset in array.dtype.fields.values()]", 
      "                    )", 
      "                ]", 
      "        print \"the result of the padding operation is:\"", 
      "        print new_dtype_fields", 
      "        new_dtype = np.dtype(new_dtype_fields)", 
      "", 
      "        new_array = np.zeros(array.shape, dtype=new_dtype)", 
      "", 
      "        for fieldname in array.dtype.fields.keys():", 
      "            new_array[fieldname] = array[fieldname]", 
      "", 
      "        array = new_array", 
      "", 
      "    # generate an array of all possibilities", 
      "    sizes = [len(possible_value_dict[descr[0]]) for descr in array.dtype.descr]", 
      "", 
      "    all_values = np.zeros(shape=sizes, dtype=array.dtype)", 
      "", 
      "    value_ranges_per_subfield = [possible_value_dict[descr[0]] for descr in array.dtype.descr]", 
      "", 
      "    positions = product(*map(range, sizes))", 
      "    for position in positions:", 
      "        values = [value_ranges_per_subfield[idx][position[idx]] for idx in range(len(sizes))]", 
      "        all_values[tuple(position)] = tuple(values)", 
      "", 
      "    print \"these are all possible values:\"", 
      "    print all_values", 
      "", 
      "    # now change the dtype", 
      "", 
      "    new_array = all_values.view()", 
      "    new_array.dtype = \"i\" + str(new_bytesize)", 
      "", 
      "    return new_array.reshape(reduce(lambda a, b: a * b, sizes))", 
      "", 
      "test_array = np.zeros((1, 4), dtype=\"int8, int16\")", 
      "print \"we're going to analyse this array:\"", 
      "print test_array, test_array.dtype", 
      "print", 
      "", 
      "possible_values = {\"f0\": [0, 1, 2, 3],", 
      "                   \"f1\": [1, 2, 4, 8, 16]}", 
      "", 
      "print \"we've decided, that the following values are possible for the fields:\"", 
      "print possible_values", 
      "print", 
      "", 
      "all_values = analyze_dtype(test_array, possible_values)", 
      "print \"these are all values possible, as integers\"", 
      "print all_values", 
      "print", 
      "", 
      "print \"the bytes are packed like this:\"", 
      "chunksize = len(all_values.data) / len(all_values)", 
      "for chunk in range(len(all_values)):", 
      "    print hexlify(str(all_values.data)[chunk * chunksize:(chunk + 1) * chunksize])"
     ], 
     "language": "python", 
     "outputs": [
      {
       "output_type": "stream", 
       "stream": "stdout", 
       "text": [
        "we're going to analyse this array:", 
        "[[(0, 0) (0, 0) (0, 0) (0, 0)]] [('f0', '|i1'), ('f1', '<i2')]", 
        "", 
        "we've decided, that the following values are possible for the fields:", 
        "{'f0': [0, 1, 2, 3], 'f1': [1, 2, 4, 8, 16]}", 
        "", 
        "bytesizes differ: 3 -> 4", 
        "need to pad the fields with i1", 
        "the result of the padding operation is:", 
        "[('padding_1', 'i1', ()), ('f0', '|i1', ()), ('f1', '<i2', ())]", 
        "these are all possible values:", 
        "[[[(0, 0, 1) (0, 0, 2) (0, 0, 4) (0, 0, 8) (0, 0, 16)]", 
        "  [(0, 1, 1) (0, 1, 2) (0, 1, 4) (0, 1, 8) (0, 1, 16)]", 
        "  [(0, 2, 1) (0, 2, 2) (0, 2, 4) (0, 2, 8) (0, 2, 16)]", 
        "  [(0, 3, 1) (0, 3, 2) (0, 3, 4) (0, 3, 8) (0, 3, 16)]]]", 
        "these are all values possible, as integers", 
        "[  65536  131072  262144  524288 1048576   65792  131328  262400  524544", 
        " 1048832   66048  131584  262656  524800 1049088   66304  131840  262912", 
        "  525056 1049344]", 
        "", 
        "the bytes are packed like this:", 
        "00000100", 
        "00000200", 
        "00000400", 
        "00000800", 
        "00001000", 
        "00010100", 
        "00010200", 
        "00010400", 
        "00010800", 
        "00011000", 
        "00020100", 
        "00020200", 
        "00020400", 
        "00020800", 
        "00021000", 
        "00030100", 
        "00030200", 
        "00030400", 
        "00030800", 
        "00031000"
       ]
      }
     ], 
     "prompt_number": 15
    }
   ]
  }
 ]
}