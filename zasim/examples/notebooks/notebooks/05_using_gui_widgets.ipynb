{
 "metadata": {
  "name": "05 using gui widgets"
 }, 
 "nbformat": 2, 
 "worksheets": [
  {
   "cells": [
    {
     "cell_type": "markdown", 
     "source": [
      "The ipython notebook can be asked to run a gui event loop for qt with this little magic function:"
     ]
    }, 
    {
     "cell_type": "code", 
     "collapsed": true, 
     "input": [
      "%gui qt"
     ], 
     "language": "python", 
     "outputs": [], 
     "prompt_number": 1
    }, 
    {
     "cell_type": "markdown", 
     "source": [
      "after that, Qt widgets can be used. They will appear on the computer that runs", 
      "the notebook, though - not in the browser."
     ]
    }, 
    {
     "cell_type": "code", 
     "collapsed": false, 
     "input": [
      "from zasim.external.qt import *", 
      "btn = QPushButton()", 
      "btn.setText(\"push me\")", 
      "btn.show()"
     ], 
     "language": "python", 
     "outputs": [], 
     "prompt_number": 2
    }, 
    {
     "cell_type": "code", 
     "collapsed": false, 
     "input": [
      "# clean up again", 
      "del btn"
     ], 
     "language": "python", 
     "outputs": [], 
     "prompt_number": 3
    }, 
    {
     "cell_type": "markdown", 
     "source": [
      "Since QWidgets can just be .show()n and they will become a window, you can just instantiate a few", 
      "of the QWidgets that zasim offers and turn them into separate windows:"
     ]
    }, 
    {
     "cell_type": "code", 
     "collapsed": false, 
     "input": [
      "from zasim import cagen", 
      "from zasim.gui.displaywidgets import DisplayWidget", 
      "", 
      "computation = cagen.ElementarySimulator(size=(1000,), rule=110)", 
      "display_widget = DisplayWidget(computation, 1000, 400)", 
      "display_widget.show()"
     ], 
     "language": "python", 
     "outputs": [], 
     "prompt_number": 4
    }, 
    {
     "cell_type": "markdown", 
     "source": [
      "You can add a control widget, too, so that you can click start and stop, as well as reset."
     ]
    }, 
    {
     "cell_type": "code", 
     "collapsed": true, 
     "input": [
      "from zasim.gui.control import ControlWidget", 
      "control = ControlWidget(computation)", 
      "control.show()"
     ], 
     "language": "python", 
     "outputs": [], 
     "prompt_number": 5
    }, 
    {
     "cell_type": "markdown", 
     "source": [
      "Putting it into one window makes it easier to use."
     ]
    }, 
    {
     "cell_type": "code", 
     "collapsed": false, 
     "input": [
      "outer_window = QDialog()", 
      "layout = QVBoxLayout()", 
      "layout.addWidget(display_widget)", 
      "# force the window to be bigger, so that the display widget is actually shown", 
      "display_widget.setMinimumSize(100, 100)", 
      "", 
      "layout.addWidget(control)", 
      "outer_window.setLayout(layout)", 
      "outer_window.show()"
     ], 
     "language": "python", 
     "outputs": [], 
     "prompt_number": 6
    }
   ]
  }
 ]
}