{
 "metadata": {
  "name": "03 Game of Life"
 }, 
 "nbformat": 2, 
 "worksheets": [
  {
   "cells": [
    {
     "cell_type": "markdown", 
     "source": [
      "# Game of Life", 
      "", 
      "Zasim offers not only one-dimensional cellular automata, but also two-dimensional", 
      "cellular automata like Conway's Game of Life."
     ]
    }, 
    {
     "cell_type": "code", 
     "collapsed": true, 
     "input": [
      "from zasim import cagen", 
      "from zasim.display import console", 
      "from IPython.core.display import display, clear_output", 
      "from time import sleep"
     ], 
     "language": "python", 
     "outputs": [], 
     "prompt_number": 1
    }, 
    {
     "cell_type": "code", 
     "collapsed": true, 
     "input": [
      "sim_obj = cagen.GameOfLife(size=(40,20))"
     ], 
     "language": "python", 
     "outputs": [], 
     "prompt_number": 2
    }, 
    {
     "cell_type": "markdown", 
     "source": [
      "Obviously, a OneDimensionalConsolePainter won't do us much good for a Game of Life, so instead we", 
      "use a TwoDimensionalConsolePainter. By supplying auto_output=False, we can let the simulator do", 
      "a few steps and then look at the output, rather than have every single step shown to us:"
     ]
    }, 
    {
     "cell_type": "code", 
     "collapsed": true, 
     "input": [
      "dsp = console.TwoDimConsolePainter(sim_obj, auto_output=False)"
     ], 
     "language": "python", 
     "outputs": [], 
     "prompt_number": 3
    }, 
    {
     "cell_type": "code", 
     "collapsed": true, 
     "input": [
      "for i in xrange(15):", 
      "    sim_obj.step()"
     ], 
     "language": "python", 
     "outputs": [], 
     "prompt_number": 4
    }, 
    {
     "cell_type": "markdown", 
     "source": [
      "Now, to display the configuration, we could just convert the display object to a string and print the result,", 
      "but using IPythons display function gives us a nice table instead.", 
      "", 
      "Here we have two consecutive configurations displayed:"
     ]
    }, 
    {
     "cell_type": "code", 
     "collapsed": false, 
     "input": [
      "display(dsp)", 
      "sim_obj.step()", 
      "display(dsp)"
     ], 
     "language": "python", 
     "outputs": [], 
     "prompt_number": 5
    }, 
    {
     "cell_type": "markdown", 
     "source": [
      "Using clear_output and sleep, we get a more traditional display:"
     ]
    }, 
    {
     "cell_type": "code", 
     "collapsed": false, 
     "input": [
      "for i in xrange(15):", 
      "    clear_output()", 
      "    display(dsp)", 
      "    sleep(0.2)", 
      "    sim_obj.step()"
     ], 
     "language": "python", 
     "outputs": [], 
     "prompt_number": 6
    }, 
    {
     "cell_type": "markdown", 
     "source": [
      "# Life Parameters", 
      "", 
      "The implementation of Game of Life in zasim allows you to supply the following parameters:", 
      "", 
      "* reproduce_min \u2013 The minimal number of alive cells needed to reproduce to this cell.", 
      "* reproduce_max \u2013 The maximal number of alive cells that still cause a reproduction.", 
      "* stay_alive_min \u2013 The minimal number of alive neighbours needed for a cell to survive.", 
      "* stay_alive_max \u2013 The maximal number of alive neighbours that still allow the cell to survive.", 
      "", 
      "You can plug in those values as a dictionary into the *life_params* argument to the constructor", 
      "to the GameOfLife class. You don't have to supply all of them. If you leave any out, the default", 
      "values from Conway's Game of Life will be used instead.", 
      "", 
      "Feel free to try around with different life_params."
     ]
    }, 
    {
     "cell_type": "code", 
     "collapsed": false, 
     "input": [
      "simb = cagen.GameOfLife(size=(30, 15), life_params=dict(reproduce_min=1, reproduce_max=2))", 
      "dspb = console.TwoDimConsolePainter(simb, auto_output=False)", 
      "for i in xrange(20):", 
      "    simb.step()", 
      "", 
      "display(dspb)", 
      "for i in range(3):", 
      "    simb.step()", 
      "    display(dspb)"
     ], 
     "language": "python", 
     "outputs": [], 
     "prompt_number": 7
    }
   ]
  }
 ]
}