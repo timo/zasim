{
 "metadata": {
  "name": "01 Introduction"
 }, 
 "nbformat": 2, 
 "worksheets": [
  {
   "cells": [
    {
     "cell_type": "markdown", 
     "source": [
      "# Zasim interactive Tutorial", 
      "", 
      "Welcome to the interactive tutorial for zasim, the cellular automaton framework.", 
      "The tutorial is powered by the IPython notebook web application.", 
      "", 
      "You can execute each cell in turn by clicking the \"Run Selected\" button in the", 
      "\"Cell\" section in the left panel of the notebook.", 
      "", 
      "If you don't see the left panel, you can click on the gray bar on the far left", 
      "side of the page.", 
      "", 
      "Cells that have been run will have a number in the square brackets next to the", 
      "word \"In\". You can run the cells in any order you wish and even re-order them,", 
      "but if you run the cells out of order, unintended things may happen.", 
      "", 
      "You can run the first few cells now"
     ]
    }, 
    {
     "cell_type": "code", 
     "collapsed": true, 
     "input": [
      "print \"Hello, world!\""
     ], 
     "language": "python", 
     "outputs": [], 
     "prompt_number": 1
    }, 
    {
     "cell_type": "code", 
     "collapsed": true, 
     "input": [
      "5 + 9"
     ], 
     "language": "python", 
     "outputs": [], 
     "prompt_number": 2
    }, 
    {
     "cell_type": "code", 
     "collapsed": true, 
     "input": [
      "prefix = \"zasim is \"", 
      "adjectives = [\"fun\", \"easy\", \"powerful\"]", 
      "[prefix + adj for adj in adjectives]"
     ], 
     "language": "python", 
     "outputs": [], 
     "prompt_number": 3
    }, 
    {
     "cell_type": "markdown", 
     "source": [
      "## Experimenting a bit", 
      "", 
      "After executing a cell, you can still edit and re-run it.", 
      "", 
      "Keep in mind, though, that in the background runs one python session and re-running", 
      "a cell will not undo what happened."
     ]
    }, 
    {
     "cell_type": "code", 
     "collapsed": true, 
     "input": [
      "the_list = []"
     ], 
     "language": "python", 
     "outputs": [], 
     "prompt_number": 4
    }, 
    {
     "cell_type": "code", 
     "collapsed": true, 
     "input": [
      "the_list.append(\"a strnig\")", 
      "print the_list"
     ], 
     "language": "python", 
     "outputs": [], 
     "prompt_number": 5
    }, 
    {
     "cell_type": "markdown", 
     "source": [
      "Run those two cells above and correct \"a strnig\" to \"a string\" and re-run the second cell.", 
      "", 
      "You will notice, that the list still contains the wrong string."
     ]
    }, 
    {
     "cell_type": "markdown", 
     "source": [
      "## Simple examples", 
      "", 
      "Run these two cells in order and see a render of the rule 30 cellular automaton."
     ]
    }, 
    {
     "cell_type": "code", 
     "collapsed": true, 
     "input": [
      "from zasim.cagen import *", 
      "from zasim.display.console import *", 
      "import numpy as np"
     ], 
     "language": "python", 
     "outputs": [], 
     "prompt_number": 6
    }, 
    {
     "cell_type": "code", 
     "collapsed": true, 
     "input": [
      "simulator = BinRule(config=np.array([0] * 20 + [1] + [0] * 19), rule=30)", 
      "display = OneDimConsolePainter(simulator, 1)", 
      "for i in range(19):", 
      "    simulator.step()"
     ], 
     "language": "python", 
     "outputs": [], 
     "prompt_number": 7
    }, 
    {
     "cell_type": "markdown", 
     "source": [
      "# IPython features", 
      "", 
      "IPython offers a couple of nice tricks for making interactive use of python easier. One of them is the", 
      "tab completion, which offers suggestions for variables, classes, functions, ...", 
      "", 
      "Another feature is the introspection helpers. Just write any name and follow it up with one or two ", 
      "question marks. When you run the cell, a panel at the bottom will pop up with information on the", 
      "object. You can close the panel again by clicking on the line that separates the panel from the", 
      "main notebook area."
     ]
    }, 
    {
     "cell_type": "code", 
     "collapsed": true, 
     "input": [
      "# display the docstring of the simulator class and other information", 
      "simulator?"
     ], 
     "language": "python", 
     "outputs": [], 
     "prompt_number": 8
    }, 
    {
     "cell_type": "code", 
     "collapsed": true, 
     "input": [
      "# display some code of the display painter", 
      "display??"
     ], 
     "language": "python", 
     "outputs": [], 
     "prompt_number": 9
    }, 
    {
     "cell_type": "markdown", 
     "source": [
      "Another great feature is the rich media display, that IPython offers. The image a *ConsolePainter*", 
      "holds can be output as a table like this:"
     ]
    }, 
    {
     "cell_type": "code", 
     "collapsed": true, 
     "input": [
      "display"
     ], 
     "language": "python", 
     "outputs": [], 
     "prompt_number": 10
    }, 
    {
     "cell_type": "markdown", 
     "source": [
      "And if you want to display multiple lines in a row, you can either create a display, that holds multiple", 
      "lines at once, like this:"
     ]
    }, 
    {
     "cell_type": "code", 
     "collapsed": true, 
     "input": [
      "simulator_2 = BinRule(size=(40,), rule=30)", 
      "display_2 = OneDimConsolePainter(simulator_2, 20, auto_output=False)", 
      "for i in range(20):", 
      "    simulator_2.step()", 
      "display_2"
     ], 
     "language": "python", 
     "outputs": [], 
     "prompt_number": 11
    }, 
    {
     "cell_type": "markdown", 
     "source": [
      "Or you can use ipythons \"display\" function, which you have to import."
     ]
    }, 
    {
     "cell_type": "code", 
     "collapsed": true, 
     "input": [
      "from IPython.core.display import display", 
      "simulator_3 = BinRule(size=(40,), rule=30)", 
      "display_3 = OneDimConsolePainter(simulator_3, 1, auto_output=False)", 
      "for i in range(5):", 
      "    simulator_3.step()", 
      "    display(display_3)"
     ], 
     "language": "python", 
     "outputs": [], 
     "prompt_number": 12
    }, 
    {
     "cell_type": "markdown", 
     "source": [
      "Using the clear_output function, you can even play animations (note: you can click \"Interrupt\" in the left", 
      "hand menu under \"Kernel\" to stop any computation that goes on for too long)"
     ]
    }, 
    {
     "cell_type": "code", 
     "collapsed": true, 
     "input": [
      "from IPython.core.display import clear_output", 
      "from time import sleep", 
      "for i in range(20):", 
      "    simulator_3.step()", 
      "    clear_output()", 
      "    display(display_3)", 
      "    sleep(0.2)"
     ], 
     "language": "python", 
     "outputs": [], 
     "prompt_number": 13
    }
   ]
  }
 ]
}