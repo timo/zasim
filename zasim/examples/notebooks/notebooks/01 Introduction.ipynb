{
 "metadata": {
  "name": "01 Introduction"
 }, 
 "nbformat": 2, 
 "worksheets": [
  {
   "cells": [
    {
     "cell_type": "markdown", 
     "source": [
      "# Zasim interactive Tutorial", 
      "", 
      "Welcome to the interactive tutorial for zasim, the cellular automaton framework.", 
      "The tutorial is powered by the IPython notebook web application.", 
      "", 
      "You can execute each cell in turn by clicking the \"Run Selected\" button in the", 
      "\"Cell\" section in the left panel of the notebook.", 
      "", 
      "If you don't see the left panel, you can click on the gray bar on the far left", 
      "side of the page.", 
      "", 
      "Cells that have been run will have a number in the square brackets next to the", 
      "word \"In\". You can run the cells in any order you wish and even re-order them,", 
      "but if you run the cells out of order, unintended things may happen.", 
      "", 
      "You can run the first few cells now"
     ]
    }, 
    {
     "cell_type": "code", 
     "collapsed": false, 
     "input": [
      "print \"Hello, world!\""
     ], 
     "language": "python", 
     "outputs": [], 
     "prompt_number": 1
    }, 
    {
     "cell_type": "code", 
     "collapsed": false, 
     "input": [
      "5 + 9"
     ], 
     "language": "python", 
     "outputs": [], 
     "prompt_number": 2
    }, 
    {
     "cell_type": "code", 
     "collapsed": false, 
     "input": [
      "prefix = \"zasim is \"", 
      "adjectives = [\"fun\", \"easy\", \"powerful\"]", 
      "[prefix + adj for adj in adjectives]"
     ], 
     "language": "python", 
     "outputs": [], 
     "prompt_number": 3
    }, 
    {
     "cell_type": "markdown", 
     "source": [
      "## Experimenting a bit", 
      "", 
      "After executing a cell, you can still edit and re-run it.", 
      "", 
      "Keep in mind, though, that in the background runs one python session and re-running", 
      "a cell will not undo what happened."
     ]
    }, 
    {
     "cell_type": "code", 
     "collapsed": true, 
     "input": [
      "the_list = []"
     ], 
     "language": "python", 
     "outputs": [], 
     "prompt_number": 4
    }, 
    {
     "cell_type": "code", 
     "collapsed": false, 
     "input": [
      "the_list.append(\"a strnig\")", 
      "print the_list"
     ], 
     "language": "python", 
     "outputs": [], 
     "prompt_number": 5
    }, 
    {
     "cell_type": "markdown", 
     "source": [
      "Run those two cells above and correct \"a strnig\" to \"a string\" and re-run the second cell.", 
      "", 
      "You will notice, that the list still contains the wrong string."
     ]
    }, 
    {
     "cell_type": "markdown", 
     "source": [
      "## Simple examples", 
      "", 
      "Run these two cells in order and see a render of the rule 30 cellular automaton."
     ]
    }, 
    {
     "cell_type": "code", 
     "collapsed": true, 
     "input": [
      "from zasim.cagen import *", 
      "from zasim.display.console import *", 
      "import numpy as np"
     ], 
     "language": "python", 
     "outputs": [], 
     "prompt_number": 6
    }, 
    {
     "cell_type": "code", 
     "collapsed": false, 
     "input": [
      "simulator = BinRule(config=np.array([0] * 20 + [1] + [0] * 19), rule=30)", 
      "display = OneDimConsolePainter(simulator, 1)", 
      "for i in range(19):", 
      "    simulator.step()"
     ], 
     "language": "python", 
     "outputs": [], 
     "prompt_number": 7
    }
   ]
  }
 ]
}