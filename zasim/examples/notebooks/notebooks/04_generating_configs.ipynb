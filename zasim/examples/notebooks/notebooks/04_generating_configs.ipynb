{
 "metadata": {
  "name": "04_generating_configs"
 }, 
 "nbformat": 2, 
 "worksheets": [
  {
   "cells": [
    {
     "cell_type": "markdown", 
     "source": [
      "# Generating configs", 
      "", 
      "Zasim offers a couple classes in the config package that make creating special", 
      "starting configurations easier. The simplest configurations can be made without", 
      "it, though."
     ]
    }, 
    {
     "cell_type": "code", 
     "collapsed": true, 
     "input": [
      "from zasim import cagen", 
      "from zasim import config", 
      "from zasim.display.gui import "
     ], 
     "language": "python", 
     "outputs": [], 
     "prompt_number": "&nbsp;"
    }, 
    {
     "cell_type": "code", 
     "collapsed": true, 
     "input": [
      "# a helper function to immediately display a config", 
      "simo = ", 
      "def display_config(conf):", 
      "    "
     ], 
     "language": "python", 
     "outputs": [], 
     "prompt_number": "&nbsp;"
    }
   ]
  }
 ]
}