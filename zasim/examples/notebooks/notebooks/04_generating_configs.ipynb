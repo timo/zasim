{
 "metadata": {
  "name": "04_generating_configs"
 }, 
 "nbformat": 2, 
 "worksheets": [
  {
   "cells": [
    {
     "cell_type": "markdown", 
     "source": [
      "# Generating configs", 
      "", 
      "Zasim offers a couple classes in the config package that make creating special", 
      "starting configurations easier. The simplest configurations can be made without", 
      "it, though."
     ]
    }, 
    {
     "cell_type": "code", 
     "collapsed": false, 
     "input": [
      "from zasim import cagen", 
      "from zasim import config", 
      "import numpy as np"
     ], 
     "language": "python", 
     "outputs": [], 
     "prompt_number": 1
    }, 
    {
     "cell_type": "code", 
     "collapsed": false, 
     "input": [
      "# a helper function to immediately display a config", 
      "from zasim.display.qt import render_state_array, qimage_to_pngstr", 
      "from IPython.core.display import display, clear_output, publish_png", 
      "        ", 
      "def display_config(conf, ps=5):", 
      "    \"\"\"", 
      "    Display a configuration as a png image, one tile is ps * ps pixels big.", 
      "    \"\"\"", 
      "    qi = render_state_array(conf)", 
      "    qis = qi.scaled(qi.width() * ps, qi.height() * ps)", 
      "    pngstr = qimage_to_pngstr(qis)", 
      "    publish_png(pngstr)"
     ], 
     "language": "python", 
     "outputs": [], 
     "prompt_number": 2
    }, 
    {
     "cell_type": "markdown", 
     "source": [
      "A config is just a numpy array, so you can just write python arrays and", 
      "numpy arrays and use them as configurations for your simulator."
     ]
    }, 
    {
     "cell_type": "code", 
     "collapsed": false, 
     "input": [
      "display_config(np.array([[0, 1, 0, 0, 0, 1, 1, 1]]).T)", 
      "display_config(np.array([[0, 1, 0], [0, 0, 1], [1, 1, 1]]))"
     ], 
     "language": "python", 
     "outputs": [], 
     "prompt_number": 3
    }, 
    {
     "cell_type": "markdown", 
     "source": [
      "You can generate random configurations with numpy.random, but also with zasim.config:"
     ]
    }, 
    {
     "cell_type": "code", 
     "collapsed": false, 
     "input": [
      "display_config(np.random.randint(0, 2, (10, 10)))", 
      "display_config(config.RandomConfiguration().generate((10, 10)))"
     ], 
     "language": "python", 
     "outputs": [], 
     "prompt_number": 4
    }, 
    {
     "cell_type": "markdown", 
     "source": [
      "The RandomInitialConfiguration constructor lets you assign what values have what probability:"
     ]
    }, 
    {
     "cell_type": "code", 
     "collapsed": false, 
     "input": [
      "# 3 colors: 10% black, 10% white, 80% red", 
      "display_config(config.RandomConfiguration(3, 0.1, 0.1, 0.8).generate((10, 10)))", 
      "", 
      "# 4 colors: 50% white, 25% red, 25% blue", 
      "display_config(config.RandomConfiguration(4, 0, 0.5, 0.25, 0.25).generate((10, 10)))"
     ], 
     "language": "python", 
     "outputs": [], 
     "prompt_number": 5
    }, 
    {
     "cell_type": "markdown", 
     "source": [
      "RandomInitialConfigurationFromPalette lets you select values, for cases like the", 
      "JVN automaton where values are spread apart a very wide range"
     ]
    }, 
    {
     "cell_type": "code", 
     "collapsed": false, 
     "input": [
      "# 25% white, 75% blue", 
      "display_config(config.RandomConfigurationFromPalette([1, 3], 0.25, 0.75).generate((10, 10)))"
     ], 
     "language": "python", 
     "outputs": [], 
     "prompt_number": 6
    }, 
    {
     "cell_type": "markdown", 
     "source": [
      "## Density distributed configurations", 
      "", 
      "With this class you can create a function for each value to define where they are more", 
      "or less likely to appear (or not at all)."
     ]
    }, 
    {
     "cell_type": "code", 
     "collapsed": false, 
     "input": [
      "# make black cells more likely to appear near the right", 
      "display_config(config.DensityDistributedConfiguration(", 
      "          {0: lambda x, y, w, h: (1.0 + x) / w,", 
      "           1: lambda x, y, w, h: 1.0}).generate((100, 10)))", 
      "", 
      "# the value returned by the lambdas need not be between 0 and 1 and the values", 
      "# for the same cell need not add up to any specific amount", 
      "display_config(config.DensityDistributedConfiguration(", 
      "          {0: lambda x, y, w, h: (1.0 + x),", 
      "           1: lambda x, y, w, h: 25.0}).generate((100, 10)))"
     ], 
     "language": "python", 
     "outputs": [], 
     "prompt_number": 7
    }, 
    {
     "cell_type": "markdown", 
     "source": [
      "The helper function \"function_of_radius\" lets you express the probability as the", 
      "distance from the middle of the configuration and the maximum distance."
     ]
    }, 
    {
     "cell_type": "code", 
     "collapsed": false, 
     "input": [
      "display_config(config.DensityDistributedConfiguration(", 
      "           {0: lambda *a: 1.0,", 
      "            1: config.function_of_radius(", 
      "                      lambda r, m: 50 if r > m / 2 else 1.0)}).generate((50, 50)))"
     ], 
     "language": "python", 
     "outputs": [], 
     "prompt_number": 8
    }
   ]
  }
 ]
}