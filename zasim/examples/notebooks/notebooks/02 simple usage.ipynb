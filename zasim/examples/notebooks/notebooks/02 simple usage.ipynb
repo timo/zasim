{
 "metadata": {
  "name": "02 simple usage"
 }, 
 "nbformat": 2, 
 "worksheets": [
  {
   "cells": [
    {
     "cell_type": "markdown", 
     "source": [
      "# Simple usage of zasim", 
      "", 
      "First, we import the cagen package, so that we have a few pre-defined simulators ready to use.", 
      "Then, we import the console module from the display package, which offers ascii-art based display of cellular automaton configurations."
     ]
    }, 
    {
     "cell_type": "code", 
     "collapsed": true, 
     "input": [
      "from zasim import cagen", 
      "from zasim.display import console"
     ], 
     "language": "python", 
     "outputs": [], 
     "prompt_number": 1
    }, 
    {
     "cell_type": "markdown", 
     "source": [
      "Now we can create a simulator, that calculates the elementary cellular automaton number", 
      "153 (as described by Stephen Wolfram)"
     ]
    }, 
    {
     "cell_type": "code", 
     "collapsed": true, 
     "input": [
      "simulator_object = cagen.ElementarySimulator(size=[50], rule=122)"
     ], 
     "language": "python", 
     "outputs": [], 
     "prompt_number": 2
    }, 
    {
     "cell_type": "markdown", 
     "source": [
      "In order to see something, a display needs to be created. For the ipython notebook,", 
      "the most suitable display object is a OneDimConsolePainter.", 
      "", 
      "Normally, the \"lines\" parameter would let us specify, how many lines of history to", 
      "keep, but since the Painter prints the configuration after every step anyway, we set", 
      "the number of lines to 1."
     ]
    }, 
    {
     "cell_type": "code", 
     "collapsed": false, 
     "input": [
      "display = console.OneDimConsolePainter(simulator_object, lines=1)"
     ], 
     "language": "python", 
     "outputs": [
      {
       "output_type": "stream", 
       "stream": "stdout", 
       "text": [
        "#  # # ####  #  #  #   # #    ### ##  # #  #    ##"
       ]
      }
     ], 
     "prompt_number": 3
    }, 
    {
     "cell_type": "markdown", 
     "source": [
      "Now, connecting the display and stepping the simulator object will cause a line of", 
      "ascii art characters to be printed to the screen. Let's do a few steps:"
     ]
    }, 
    {
     "cell_type": "code", 
     "collapsed": false, 
     "input": [
      "for i in xrange(20):", 
      "    simulator_object.step()"
     ], 
     "language": "python", 
     "outputs": [
      {
       "output_type": "stream", 
       "stream": "stdout", 
       "text": [
        "### # ##  ### ## ## # # # #  ## ###### # ## #  ## ", 
        "# ## ###### ######## # # # ######    ## #### #####", 
        "######    ###      ## # # ##    ##  #####  ###    ", 
        "#    ##  ## ##    #### # ####  ######   #### ##  #", 
        "##  ###########  ##  ## ##  ####    ## ##  #######", 
        " ####         ###############  ##  #########      ", 
        "##  ##       ##             ########       ##     ", 
        "#######     ####           ##      ##     ####   #", 
        "      ##   ##  ##         ####    ####   ##  ## ##", 
        "#    #### ########       ##  ##  ##  ## ##########", 
        "##  ##  ###      ##     #################         ", 
        "######### ##    ####   ##               ##       #", 
        "        #####  ##  ## ####             ####     ##", 
        "#      ##   ###########  ##           ##  ##   ###", 
        "##    #### ##         ######         ######## ##  ", 
        "###  ##  #####       ##    ##       ##      ######", 
        "  ########   ##     ####  ####     ####    ##     ", 
        " ##      ## ####   ##  ####  ##   ##  ##  ####    ", 
        "####    #####  ## ######  ###### ##########  ##   ", 
        "#  ##  ##   #######    ####    ###        ###### #"
       ]
      }
     ], 
     "prompt_number": 4
    }, 
    {
     "cell_type": "markdown", 
     "source": [
      "# Inspecting the Simulator", 
      "", 
      "The simulator object offers a member called *t*, which stores all data, that is", 
      "relevant for one specific execution. This usually includes the configuration, but", 
      "also data like the statistics gathered by activity or histogram calculations, that", 
      "can optionally be added to the object.", 
      "", 
      "Let's create a simulator like the one above, but add a few more interesting", 
      "bits of data to it:"
     ]
    }, 
    {
     "cell_type": "code", 
     "collapsed": false, 
     "input": [
      "sim = cagen.ElementarySimulator(size=[50], histogram=True, activity=True, rule=122)", 
      "dsp = console.OneDimConsolePainter(sim, 1)", 
      "for i in range(10): sim.step()"
     ], 
     "language": "python", 
     "outputs": [
      {
       "output_type": "stream", 
       "stream": "stdout", 
       "text": [
        "   ##   ###   ##  #  #  ### ## ### ##   # ### #   ", 
        "  #### ## ## ##### ## ### ###### ##### # ## ## #  ", 
        " ##  #########   ###### ###    ###   ## ####### # ", 
        "######       ## ##    ### ##  ## ## #####     ## #", 
        "     ##     #######  ## #############   ##   #####", 
        "#   ####   ##     #######           ## #### ##   #", 
        "## ##  ## ####   ##     ##         #####  ##### ##", 
        " ##########  ## ####   ####       ##   ####   ### ", 
        "##        #######  ## ##  ##     #### ##  ## ## ##", 
        " ##      ##     #############   ##  ############# ", 
        "####    ####   ##           ## ######           ##"
       ]
      }
     ], 
     "prompt_number": 35
    }, 
    {
     "cell_type": "code", 
     "collapsed": false, 
     "input": [
      "print \"the attrs are:\", sim.t.attrs", 
      "print \"the rule number is\", sim.t.rule", 
      "print \"the current configuration is\", sim.t.cconf", 
      "print \"the activity in the last step was\", sim.t.activity", 
      "print \"the distribution of zeros and ones was:\", sim.t.histogram"
     ], 
     "language": "python", 
     "outputs": [
      {
       "output_type": "stream", 
       "stream": "stdout", 
       "text": [
        "the attrs are: [&apos;rule&apos;, &apos;nconf&apos;, &apos;cconf&apos;, &apos;histogram&apos;, &apos;activity&apos;, &apos;possible_values&apos;]", 
        "the rule number is [0 1 0 1 1 1 1 0]", 
        "the current configuration is [1 1 1 1 1 0 0 0 0 1 1 1 1 0 0 0 1 1 0 0 0 0 0 0 0 0 0 0 0 1 1 0 1 1 1 1 1", 
        " 1 0 0 0 0 0 0 0 0 0 0 0 1 1 1]", 
        "the activity in the last step was [18 32]", 
        "the distribution of zeros and ones was: [ 30.  20.]"
       ]
      }
     ], 
     "prompt_number": 36
    }, 
    {
     "cell_type": "markdown", 
     "source": [
      "## Post-processing each step", 
      "", 
      "The simulator object offers signals, that can be used for data analysis.", 
      "The most interesting one for us right now is \"updated\". We can use it like this:"
     ]
    }, 
    {
     "cell_type": "code", 
     "collapsed": false, 
     "input": [
      "activity_history = []", 
      "def analyse_step():", 
      "    activity_history.append(tuple(sim.t.activity))", 
      "", 
      "sim.updated.connect(analyse_step)", 
      "", 
      "for i in range(5):", 
      "    sim.step()", 
      "", 
      "print \"the activities over the last 5 steps were\"", 
      "print \"\\n\".join([\"%d / %d active\" % (act, inact + act) for inact, act in activity_history])"
     ], 
     "language": "python", 
     "outputs": [
      {
       "output_type": "stream", 
       "stream": "stdout", 
       "text": [
        "    ##     ##  ####  ###    #########  #######  ##", 
        "#  ####   ######  #### ##  ##       ####     #####", 
        "####  ## ##    ####  #########     ##  ##   ##    ", 
        "#  #########  ##  ####       ##   ######## ####  #", 
        "####       ########  ##     #### ##      ###  ####", 
        "the activities over the last 5 steps were", 
        "25 / 50 active", 
        "25 / 50 active", 
        "29 / 50 active", 
        "29 / 50 active", 
        "27 / 50 active", 
        "27 / 50 active", 
        "26 / 50 active", 
        "26 / 50 active", 
        "30 / 50 active", 
        "30 / 50 active"
       ]
      }
     ], 
     "prompt_number": 38
    }, 
    {
     "cell_type": "markdown", 
     "source": [
      "Watch out, though: When you re-run the cell, you will end up with multiple instances", 
      "of the analyse_step function connected to the updated signal, so that your list will", 
      "contain more than jus the five entries you're expecting. In that case, just re-run", 
      "the cell, that created the sim and display objects."
     ]
    }, 
    {
     "cell_type": "markdown", 
     "source": [
      "# Game of Life"
     ]
    }
   ]
  }
 ]
}